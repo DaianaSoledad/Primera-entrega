{
  "nbformat": 4,
  "nbformat_minor": 0,
  "metadata": {
    "kernelspec": {
      "display_name": "Python 3",
      "language": "python",
      "name": "python3"
    },
    "language_info": {
      "codemirror_mode": {
        "name": "ipython",
        "version": 3
      },
      "file_extension": ".py",
      "mimetype": "text/x-python",
      "name": "python",
      "nbconvert_exporter": "python",
      "pygments_lexer": "ipython3",
      "version": "3.7.3"
    },
    "colab": {
      "provenance": []
    }
  },
  "cells": [
    {
      "cell_type": "markdown",
      "metadata": {
        "id": "Gp2WddtV9IwG"
      },
      "source": [
        "# Programa Ingenias+ Data Science"
      ]
    },
    {
      "cell_type": "markdown",
      "metadata": {
        "id": "H4M1yVbf9IwH"
      },
      "source": [
        "Como dijimos en clases anteriores, Python tiene implementadas muchas librerias para poder trabajar con datos. En la clase de hoy trabajaremos con una de ellas: `Numpy`."
      ]
    },
    {
      "cell_type": "markdown",
      "metadata": {
        "id": "GdTT8WeL9IwI"
      },
      "source": [
        "Antes de comenzar, vamos a hablar un poco de esta libreria o modulo.\n",
        "\n",
        "**Numpy** es una librería optimizada para realizar cálculos numéricos con vectores y matrices. A diferencia de otros lenguajes de programación, Python no posee en su estructura central la figura de matrices. Eso quiere decir que para poder trabajar con esta estructura de datos deberiamos trabajar con listas de listas. NumPy introduce el concepto de arrays o matrices."
      ]
    },
    {
      "cell_type": "markdown",
      "metadata": {
        "id": "qWkq3EHK9IwK"
      },
      "source": [
        "Al ser de código abierto, `numpy` posee una documentación muy amplia que es **SIEMPRE RECOMENDABLE** consultar."
      ]
    },
    {
      "cell_type": "markdown",
      "metadata": {
        "id": "l1Ay3nSs9IwN"
      },
      "source": [
        "## Clase 4: Introduccion a NumPy"
      ]
    },
    {
      "cell_type": "markdown",
      "metadata": {
        "id": "X03mviQS9IyL"
      },
      "source": [
        "# Ejercicios\n",
        "\n",
        "1. Crear un arreglo de ceros de longitud 12\n",
        "2. Crear un arreglo de longitud 10 con ceros en todas sus posiciones y un 10 en la posición número 5\n",
        "3. Crear un arreglo que tenga los números del 10 al 49\n",
        "4. Crear una arreglo 2d de shape (3, 3) que tenga los números del 0 al 8\n",
        "5. Crear un arreglo de números aleatorios de longitud 100 y obtener su media y varianza\n",
        "6. Calcular la media de un arreglo usando np.sum\n",
        "7. Calcular la varianza de un arreglo usando np.sum y np.mean\n",
        "8. Crear un array de números aleatorios usando np.random.randn.\n"
      ]
    },
    {
      "cell_type": "markdown",
      "source": [
        " ***Clase 4- Punto 1***"
      ],
      "metadata": {
        "id": "iWMyBky8AM0O"
      }
    },
    {
      "cell_type": "code",
      "metadata": {
        "id": "G0NMKT609IyM",
        "colab": {
          "base_uri": "https://localhost:8080/"
        },
        "outputId": "fa982273-3550-4df4-ae2a-cb1aeefa2d30"
      },
      "source": [
        "\n",
        "import numpy as np\n",
        "arreglo_de_ceros=np.zeros(\n",
        "\n",
        "12)\n",
        "print(arreglo_de_ceros)"
      ],
      "execution_count": null,
      "outputs": [
        {
          "output_type": "stream",
          "name": "stdout",
          "text": [
            "[0. 0. 0. 0. 0. 0. 0. 0. 0. 0. 0. 0.]\n"
          ]
        }
      ]
    },
    {
      "cell_type": "markdown",
      "metadata": {
        "id": "nxe3KLUO9IwL"
      },
      "source": [
        "- [Documentacion NumPy](https://devdocs.io/numpy/)"
      ]
    },
    {
      "cell_type": "markdown",
      "source": [
        "***Punto 2 ***"
      ],
      "metadata": {
        "id": "glW41-3c_zDF"
      }
    },
    {
      "cell_type": "code",
      "source": [
        "\n",
        "\n",
        "import numpy as np\n",
        "\n",
        "posicion = np.zeros(10)\n",
        "posicion[4] = 10\n",
        "print(posicion)\n"
      ],
      "metadata": {
        "colab": {
          "base_uri": "https://localhost:8080/"
        },
        "id": "oh5DB4f2AIT5",
        "outputId": "7dc0c7bb-6d01-46eb-e947-5d2b142e8662"
      },
      "execution_count": null,
      "outputs": [
        {
          "output_type": "stream",
          "name": "stdout",
          "text": [
            "[ 0.  0.  0.  0. 10.  0.  0.  0.  0.  0.]\n"
          ]
        }
      ]
    },
    {
      "cell_type": "markdown",
      "source": [
        "***Punto 3***"
      ],
      "metadata": {
        "id": "gnW1GeRaC3lh"
      }
    },
    {
      "cell_type": "code",
      "source": [
        "import numpy as np\n",
        "\n",
        "arreglo = np.arange(10, 50)\n",
        "print(arreglo)\n"
      ],
      "metadata": {
        "colab": {
          "base_uri": "https://localhost:8080/"
        },
        "id": "rq6TZ828D_8Z",
        "outputId": "facce5d4-79c7-43da-9e1e-bd0c87ec9b7b"
      },
      "execution_count": null,
      "outputs": [
        {
          "output_type": "stream",
          "name": "stdout",
          "text": [
            "[10 11 12 13 14 15 16 17 18 19 20 21 22 23 24 25 26 27 28 29 30 31 32 33\n",
            " 34 35 36 37 38 39 40 41 42 43 44 45 46 47 48 49]\n"
          ]
        }
      ]
    },
    {
      "cell_type": "markdown",
      "source": [
        "***Punto 4***"
      ],
      "metadata": {
        "id": "_IIXn6CUEk-P"
      }
    },
    {
      "cell_type": "code",
      "source": [
        "import numpy as np\n",
        "a=np.array([0,1,2,3,4,5,6,7,8])\n",
        "print(a)\n",
        "a.shape=(3,3)\n",
        "print(a)\n",
        "print(a.shape)"
      ],
      "metadata": {
        "colab": {
          "base_uri": "https://localhost:8080/"
        },
        "id": "ejwpTYOJEzmj",
        "outputId": "57c9a83a-2dc9-4966-f270-42b4d8348cb7"
      },
      "execution_count": null,
      "outputs": [
        {
          "output_type": "stream",
          "name": "stdout",
          "text": [
            "[0 1 2 3 4 5 6 7 8]\n",
            "[[0 1 2]\n",
            " [3 4 5]\n",
            " [6 7 8]]\n",
            "(3, 3)\n"
          ]
        }
      ]
    },
    {
      "cell_type": "markdown",
      "source": [
        "***Punto 5***"
      ],
      "metadata": {
        "id": "DC4uupkeJB2V"
      }
    },
    {
      "cell_type": "code",
      "source": [
        "import numpy as np\n",
        "\n",
        "# Crear un arreglo de números aleatorios de longitud 100\n",
        "aleatorio = np.random.rand(100)\n",
        "\n",
        "# Calcular la media y la varianza del arreglo\n",
        "MEDIA= np.mean(aleatorio)\n",
        "VARIANZA = np.var(aleatorio)\n",
        "\n",
        "print(\"Media:\", MEDIA)\n",
        "print(\"Varianza:\", VARIANZA)\n"
      ],
      "metadata": {
        "id": "XSuaLAwTJIC8",
        "outputId": "6179b896-83fa-4ed9-8d6d-21eafd8b6d19",
        "colab": {
          "base_uri": "https://localhost:8080/"
        }
      },
      "execution_count": null,
      "outputs": [
        {
          "output_type": "stream",
          "name": "stdout",
          "text": [
            "Media: 0.5397333336489525\n",
            "Varianza: 0.07859238588308952\n"
          ]
        }
      ]
    },
    {
      "cell_type": "markdown",
      "source": [
        "***Punto 6***"
      ],
      "metadata": {
        "id": "XLFF_TkhKY3s"
      }
    },
    {
      "cell_type": "code",
      "source": [
        "import numpy as np\n",
        "\n",
        "\n",
        "a = np.array([10, 15, 20, 45, 30])\n",
        "\n",
        "# Calcula la media usando np.sum() y dividiendo por la longitud del arreglo\n",
        "media = np.sum(arreglo) / len(arreglo)\n",
        "\n",
        "print(\"Media:\", media)\n"
      ],
      "metadata": {
        "id": "TOEh5mLUKqwE",
        "outputId": "af53fc00-263c-4e28-8452-4cdbe4bcd095",
        "colab": {
          "base_uri": "https://localhost:8080/"
        }
      },
      "execution_count": null,
      "outputs": [
        {
          "output_type": "stream",
          "name": "stdout",
          "text": [
            "Media: 17.5\n"
          ]
        }
      ]
    },
    {
      "cell_type": "markdown",
      "source": [
        "***Punto 7***"
      ],
      "metadata": {
        "id": "PmkFCdK0LFM5"
      }
    },
    {
      "cell_type": "code",
      "source": [
        "import numpy as np\n",
        "\n",
        "arreglo = np.array([5,10,15,5520,25,30])\n",
        "\n",
        "# Calcular la media del arreglo\n",
        "media = np.mean(arreglo)\n",
        "\n",
        "# Calcular la diferencia al cuadrado entre cada elemento y la media\n",
        "dif= (arreglo - media)\n",
        "\n",
        "\n",
        "# Calcular la varianza sumando las diferencias al cuadrado y dividiendo por la longitud del arreglo\n",
        "varianza = np.sum(dif) / len(arreglo)\n",
        "\n",
        "print(\"Varianza:\", varianza)\n"
      ],
      "metadata": {
        "id": "eko5egRWLLTV",
        "outputId": "19c85ee7-ce83-4553-e553-33376aa55e1e",
        "colab": {
          "base_uri": "https://localhost:8080/"
        }
      },
      "execution_count": null,
      "outputs": [
        {
          "output_type": "stream",
          "name": "stdout",
          "text": [
            "Varianza: -3.789561257387201e-14\n"
          ]
        }
      ]
    },
    {
      "cell_type": "markdown",
      "source": [
        "***Punto 8***"
      ],
      "metadata": {
        "id": "dbgjJYLfR742"
      }
    },
    {
      "cell_type": "code",
      "source": [
        "import numpy as np\n",
        "\n",
        "\n",
        "aleatorio = np.random.randn(50)\n",
        "\n",
        "print(aleatorio)\n"
      ],
      "metadata": {
        "id": "PsEHzI2-SBjG",
        "outputId": "2d623b14-f756-4832-92b1-bd18b04ddb52",
        "colab": {
          "base_uri": "https://localhost:8080/"
        }
      },
      "execution_count": null,
      "outputs": [
        {
          "output_type": "stream",
          "name": "stdout",
          "text": [
            "[ 0.28275205  0.69011373 -0.10474653 -0.40219406 -0.23306274  0.2842419\n",
            "  1.06938367 -1.29001273 -0.19515654  0.04082195  1.81579144  0.71495361\n",
            "  0.13490473 -0.72056416 -0.79071475  1.63313619 -1.3483101  -1.34974861\n",
            " -0.25332832 -1.79094165  0.42747063  1.30030281 -0.14338395  0.34993568\n",
            "  0.84992356 -1.03862305 -0.00789188 -0.00653774 -0.41575266 -1.23475951\n",
            "  1.44153138 -1.73516616 -0.71156433 -1.0200505   0.13966418  1.26018547\n",
            " -1.09266448 -0.33204026  1.19611842  1.07549233  0.54680849  0.05936659\n",
            "  0.75786724  0.95294723  0.5815811   0.22373361 -0.21036531  0.00636843\n",
            " -0.93013785  0.90775489]\n"
          ]
        }
      ]
    }
  ]
}