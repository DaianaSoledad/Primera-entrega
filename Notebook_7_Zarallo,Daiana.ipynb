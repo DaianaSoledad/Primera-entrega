{
  "nbformat": 4,
  "nbformat_minor": 0,
  "metadata": {
    "colab": {
      "provenance": []
    },
    "language_info": {
      "codemirror_mode": {
        "name": "ipython",
        "version": 3
      },
      "file_extension": ".py",
      "mimetype": "text/x-python",
      "name": "python",
      "nbconvert_exporter": "python",
      "pygments_lexer": "ipython3",
      "version": "3.6.6"
    },
    "kernelspec": {
      "display_name": "Python 3",
      "language": "python",
      "name": "python3"
    }
  },
  "cells": [
    {
      "cell_type": "markdown",
      "metadata": {
        "id": "4CoLDDN0Scje"
      },
      "source": [
        "## Programa Ingenias+ Data Science"
      ]
    },
    {
      "cell_type": "markdown",
      "metadata": {
        "id": "Rkizi-vlScjg"
      },
      "source": [
        "## Trabajando con Pandas"
      ]
    },
    {
      "cell_type": "markdown",
      "metadata": {
        "id": "VRd6Ow_aScjg"
      },
      "source": [
        "1) Importa las librerias requeridas: `Pandas` y `NumPy`.  \n",
        "\n",
        "Una buena practica a la hora de escribir codigo es de comentar siempre que estoy haciendo (usando `#`) en la linea anterior. Por mas obvio que parezca lo que voy a hacer, puede ser que tenga que compartir el documento con otras personas y no sepan que quise hacer en cada linea. O que yo mismo lea el codigo tiempo despues y no recuerde porque lo hice."
      ]
    },
    {
      "cell_type": "code",
      "metadata": {
        "id": "Anvt8yoSScji"
      },
      "source": [
        "#Importar Pandas\n",
        "import pandas as pd\n",
        "\n",
        "#Importar Numpy\n",
        "import numpy as np\n"
      ],
      "execution_count": null,
      "outputs": []
    },
    {
      "cell_type": "markdown",
      "metadata": {
        "id": "5YWvHd--Scjl"
      },
      "source": [
        "2) Lee el archivo csv `life_expectancy_data` usando `pandas`. Guardalo en una variable llamada `expvida`."
      ]
    },
    {
      "cell_type": "code",
      "metadata": {
        "id": "oM1b7mmxScjm"
      },
      "source": [
        "# Leo los datos en un DataFrame\n",
        "import pandas as pd\n",
        "df=pd.read_csv('life_expectancy_data.csv',delimiter=',')\n",
        "expvida = \"life_expectancy_data.csv\"\n"
      ],
      "execution_count": 13,
      "outputs": []
    },
    {
      "cell_type": "markdown",
      "metadata": {
        "id": "-a1OoVvIScjp"
      },
      "source": [
        "3) ¿Que tipo de estructura de datos contiene la variable `expvida`?"
      ]
    },
    {
      "cell_type": "code",
      "metadata": {
        "id": "7R6g46UGScjp",
        "outputId": "0d3c50c2-4b89-4464-d995-767d0f74e9a8",
        "colab": {
          "base_uri": "https://localhost:8080/"
        }
      },
      "source": [
        "# Obtengo el tipo de estructura de datos\n",
        "expvida = \"life_expectancy_data.csv\"\n",
        "tipo_expvida = type(expvida)\n",
        "print(tipo_expvida)\n",
        "\n"
      ],
      "execution_count": 17,
      "outputs": [
        {
          "output_type": "stream",
          "name": "stdout",
          "text": [
            "<class 'str'>\n"
          ]
        }
      ]
    },
    {
      "cell_type": "markdown",
      "metadata": {
        "id": "EBwmuoKKScjv"
      },
      "source": [
        "4) ¿Cuantas filas y columnas tiene `expvida`?"
      ]
    },
    {
      "cell_type": "code",
      "metadata": {
        "id": "1oKt4xZmScjw",
        "outputId": "855472cb-57f9-48a8-e0c6-e9eae476d205",
        "colab": {
          "base_uri": "https://localhost:8080/"
        }
      },
      "source": [
        "# Uso .shape para obtener cantidad de filas y columnas\n",
        "datos = pd.read_csv(expvida)\n",
        "\n",
        "# Obtener la forma (shape) del DataFrame\n",
        "filas, columnas = datos.shape\n",
        "print(\"FILAS:\", filas)\n",
        "print(\"COLUMNAS:\", columnas)\n",
        "\n"
      ],
      "execution_count": 24,
      "outputs": [
        {
          "output_type": "stream",
          "name": "stdout",
          "text": [
            "FILAS: 2938\n",
            "COLUMNAS: 22\n"
          ]
        }
      ]
    },
    {
      "cell_type": "markdown",
      "metadata": {
        "id": "O-ICrkf6Scj0"
      },
      "source": [
        "**Numero de filas**: 2938"
      ]
    },
    {
      "cell_type": "markdown",
      "metadata": {
        "id": "zXyS8xzFScj0"
      },
      "source": [
        "**Numero de columnas**: 22"
      ]
    },
    {
      "cell_type": "markdown",
      "metadata": {
        "id": "V3cNAjIIScj1"
      },
      "source": [
        "5) ¿Cual es el nombre de las columnas contenidas en `expvida`?"
      ]
    },
    {
      "cell_type": "code",
      "metadata": {
        "id": "Cr61t2ALScj2",
        "outputId": "34242d5e-d24c-449c-f613-3dcd108d9b1a",
        "colab": {
          "base_uri": "https://localhost:8080/"
        }
      },
      "source": [
        "# Obtengo el nombre de las columnas\n",
        "\n",
        "datos = pd.read_csv(expvida)\n",
        "\n",
        "# Obtener los nombres de las columnas\n",
        "nombres_columnas = datos.columns\n",
        "print(nombres_columnas)\n"
      ],
      "execution_count": 25,
      "outputs": [
        {
          "output_type": "stream",
          "name": "stdout",
          "text": [
            "Index(['Country', 'Year', 'Status', 'Life expectancy ', 'Adult Mortality',\n",
            "       'infant deaths', 'Alcohol', 'percentage expenditure', 'Hepatitis B',\n",
            "       'Measles ', ' BMI ', 'under-five deaths ', 'Polio', 'Total expenditure',\n",
            "       'Diphtheria ', ' HIV/AIDS', 'GDP', 'Population',\n",
            "       ' thinness  1-19 years', ' thinness 5-9 years',\n",
            "       'Income composition of resources', 'Schooling'],\n",
            "      dtype='object')\n"
          ]
        }
      ]
    },
    {
      "cell_type": "markdown",
      "metadata": {
        "id": "xbXCaw0mScj5"
      },
      "source": [
        "6) Inspecciona las primeras 10 filas de `expvida`"
      ]
    },
    {
      "cell_type": "code",
      "metadata": {
        "id": "WSUs6-wmScj6",
        "outputId": "c826bcf2-f2ee-4bea-e8ee-801cbb4d2eef",
        "colab": {
          "base_uri": "https://localhost:8080/"
        }
      },
      "source": [
        "\n",
        "# Inspeccionar las primeras filas de expvida\n",
        "import pandas as pd\n",
        "datos=pd.read_csv(expvida)\n",
        "# Obtener las primeras diez filas como ejemplo\n",
        "primeras_filas= datos.head(10)\n",
        "print(\"Filas:\")\n",
        "print(primeras_filas)\n",
        "\n"
      ],
      "execution_count": 27,
      "outputs": [
        {
          "output_type": "stream",
          "name": "stdout",
          "text": [
            "Filas:\n",
            "       Country  Year      Status  Life expectancy   Adult Mortality  \\\n",
            "0  Afghanistan  2015  Developing              65.0            263.0   \n",
            "1  Afghanistan  2014  Developing              59.9            271.0   \n",
            "2  Afghanistan  2013  Developing              59.9            268.0   \n",
            "3  Afghanistan  2012  Developing              59.5            272.0   \n",
            "4  Afghanistan  2011  Developing              59.2            275.0   \n",
            "5  Afghanistan  2010  Developing              58.8            279.0   \n",
            "6  Afghanistan  2009  Developing              58.6            281.0   \n",
            "7  Afghanistan  2008  Developing              58.1            287.0   \n",
            "8  Afghanistan  2007  Developing              57.5            295.0   \n",
            "9  Afghanistan  2006  Developing              57.3            295.0   \n",
            "\n",
            "   infant deaths  Alcohol  percentage expenditure  Hepatitis B  Measles   ...  \\\n",
            "0             62     0.01               71.279624         65.0      1154  ...   \n",
            "1             64     0.01               73.523582         62.0       492  ...   \n",
            "2             66     0.01               73.219243         64.0       430  ...   \n",
            "3             69     0.01               78.184215         67.0      2787  ...   \n",
            "4             71     0.01                7.097109         68.0      3013  ...   \n",
            "5             74     0.01               79.679367         66.0      1989  ...   \n",
            "6             77     0.01               56.762217         63.0      2861  ...   \n",
            "7             80     0.03               25.873925         64.0      1599  ...   \n",
            "8             82     0.02               10.910156         63.0      1141  ...   \n",
            "9             84     0.03               17.171518         64.0      1990  ...   \n",
            "\n",
            "   Polio  Total expenditure  Diphtheria    HIV/AIDS         GDP  Population  \\\n",
            "0    6.0               8.16         65.0        0.1  584.259210  33736494.0   \n",
            "1   58.0               8.18         62.0        0.1  612.696514    327582.0   \n",
            "2   62.0               8.13         64.0        0.1  631.744976  31731688.0   \n",
            "3   67.0               8.52         67.0        0.1  669.959000   3696958.0   \n",
            "4   68.0               7.87         68.0        0.1   63.537231   2978599.0   \n",
            "5   66.0               9.20         66.0        0.1  553.328940   2883167.0   \n",
            "6   63.0               9.42         63.0        0.1  445.893298    284331.0   \n",
            "7   64.0               8.33         64.0        0.1  373.361116   2729431.0   \n",
            "8   63.0               6.73         63.0        0.1  369.835796  26616792.0   \n",
            "9   58.0               7.43         58.0        0.1  272.563770   2589345.0   \n",
            "\n",
            "    thinness  1-19 years   thinness 5-9 years  \\\n",
            "0                   17.2                 17.3   \n",
            "1                   17.5                 17.5   \n",
            "2                   17.7                 17.7   \n",
            "3                   17.9                 18.0   \n",
            "4                   18.2                 18.2   \n",
            "5                   18.4                 18.4   \n",
            "6                   18.6                 18.7   \n",
            "7                   18.8                 18.9   \n",
            "8                   19.0                 19.1   \n",
            "9                   19.2                 19.3   \n",
            "\n",
            "   Income composition of resources  Schooling  \n",
            "0                            0.479       10.1  \n",
            "1                            0.476       10.0  \n",
            "2                            0.470        9.9  \n",
            "3                            0.463        9.8  \n",
            "4                            0.454        9.5  \n",
            "5                            0.448        9.2  \n",
            "6                            0.434        8.9  \n",
            "7                            0.433        8.7  \n",
            "8                            0.415        8.4  \n",
            "9                            0.405        8.1  \n",
            "\n",
            "[10 rows x 22 columns]\n"
          ]
        }
      ]
    },
    {
      "cell_type": "markdown",
      "metadata": {
        "id": "99b7sMhZScj_"
      },
      "source": [
        "7) Y ahora las 10 ultimas."
      ]
    },
    {
      "cell_type": "code",
      "metadata": {
        "id": "yaMMoHc7Scj_",
        "colab": {
          "base_uri": "https://localhost:8080/"
        },
        "outputId": "14914639-d65f-4dba-8356-06d8dadeac3c"
      },
      "source": [
        "# Inspecciono las ultimas filas\n",
        "import pandas as pd\n",
        "\n",
        "datos=pd.read_csv(expvida)\n",
        "ultimas_filas=datos.tail(10)\n",
        "\n",
        "print(\"ultimas:\")\n",
        "print(ultimas_filas)"
      ],
      "execution_count": 28,
      "outputs": [
        {
          "output_type": "stream",
          "name": "stdout",
          "text": [
            "ultimas:\n",
            "       Country  Year      Status  Life expectancy   Adult Mortality  \\\n",
            "2928  Zimbabwe  2009  Developing              50.0            587.0   \n",
            "2929  Zimbabwe  2008  Developing              48.2            632.0   \n",
            "2930  Zimbabwe  2007  Developing              46.6             67.0   \n",
            "2931  Zimbabwe  2006  Developing              45.4              7.0   \n",
            "2932  Zimbabwe  2005  Developing              44.6            717.0   \n",
            "2933  Zimbabwe  2004  Developing              44.3            723.0   \n",
            "2934  Zimbabwe  2003  Developing              44.5            715.0   \n",
            "2935  Zimbabwe  2002  Developing              44.8             73.0   \n",
            "2936  Zimbabwe  2001  Developing              45.3            686.0   \n",
            "2937  Zimbabwe  2000  Developing              46.0            665.0   \n",
            "\n",
            "      infant deaths  Alcohol  percentage expenditure  Hepatitis B  Measles   \\\n",
            "2928             30     4.64                1.040021         73.0       853   \n",
            "2929             30     3.56               20.843429         75.0         0   \n",
            "2930             29     3.88               29.814566         72.0       242   \n",
            "2931             28     4.57               34.262169         68.0       212   \n",
            "2932             28     4.14                8.717409         65.0       420   \n",
            "2933             27     4.36                0.000000         68.0        31   \n",
            "2934             26     4.06                0.000000          7.0       998   \n",
            "2935             25     4.43                0.000000         73.0       304   \n",
            "2936             25     1.72                0.000000         76.0       529   \n",
            "2937             24     1.68                0.000000         79.0      1483   \n",
            "\n",
            "      ...  Polio  Total expenditure  Diphtheria    HIV/AIDS         GDP  \\\n",
            "2928  ...   69.0               6.26         73.0       18.1   65.824121   \n",
            "2929  ...   75.0               4.96         75.0       20.5  325.678573   \n",
            "2930  ...   73.0               4.47         73.0       23.7  396.998217   \n",
            "2931  ...   71.0               5.12          7.0       26.8  414.796232   \n",
            "2932  ...   69.0               6.44         68.0       30.3  444.765750   \n",
            "2933  ...   67.0               7.13         65.0       33.6  454.366654   \n",
            "2934  ...    7.0               6.52         68.0       36.7  453.351155   \n",
            "2935  ...   73.0               6.53         71.0       39.8   57.348340   \n",
            "2936  ...   76.0               6.16         75.0       42.1  548.587312   \n",
            "2937  ...   78.0               7.10         78.0       43.5  547.358878   \n",
            "\n",
            "      Population   thinness  1-19 years   thinness 5-9 years  \\\n",
            "2928   1381599.0                    7.5                  7.4   \n",
            "2929  13558469.0                    7.8                  7.8   \n",
            "2930   1332999.0                    8.2                  8.2   \n",
            "2931  13124267.0                    8.6                  8.6   \n",
            "2932    129432.0                    9.0                  9.0   \n",
            "2933  12777511.0                    9.4                  9.4   \n",
            "2934  12633897.0                    9.8                  9.9   \n",
            "2935    125525.0                    1.2                  1.3   \n",
            "2936  12366165.0                    1.6                  1.7   \n",
            "2937  12222251.0                   11.0                 11.2   \n",
            "\n",
            "      Income composition of resources  Schooling  \n",
            "2928                            0.419        9.9  \n",
            "2929                            0.421        9.7  \n",
            "2930                            0.414        9.6  \n",
            "2931                            0.408        9.5  \n",
            "2932                            0.406        9.3  \n",
            "2933                            0.407        9.2  \n",
            "2934                            0.418        9.5  \n",
            "2935                            0.427       10.0  \n",
            "2936                            0.427        9.8  \n",
            "2937                            0.434        9.8  \n",
            "\n",
            "[10 rows x 22 columns]\n"
          ]
        }
      ]
    },
    {
      "cell_type": "markdown",
      "metadata": {
        "id": "thLRW3GjSckC"
      },
      "source": [
        "8) ¿Que tipos de datos contiene cada una de las columnas de `expvida`?"
      ]
    },
    {
      "cell_type": "code",
      "metadata": {
        "id": "AfAgFAJdSckD",
        "colab": {
          "base_uri": "https://localhost:8080/"
        },
        "outputId": "bc7b1bb3-f5b1-4b32-ccc9-93e61a46af21"
      },
      "source": [
        "# Tipo de datos en cada columna\n",
        "import pandas as pd\n",
        "datos=pd.read_csv(expvida)\n",
        "tipos_de_datos=datos.dtypes\n",
        "\n",
        "print(\"Tipos de datos:\")\n",
        "print(tipos_de_datos)"
      ],
      "execution_count": 30,
      "outputs": [
        {
          "output_type": "stream",
          "name": "stdout",
          "text": [
            "Tipos de datos:\n",
            "Country                             object\n",
            "Year                                 int64\n",
            "Status                              object\n",
            "Life expectancy                    float64\n",
            "Adult Mortality                    float64\n",
            "infant deaths                        int64\n",
            "Alcohol                            float64\n",
            "percentage expenditure             float64\n",
            "Hepatitis B                        float64\n",
            "Measles                              int64\n",
            " BMI                               float64\n",
            "under-five deaths                    int64\n",
            "Polio                              float64\n",
            "Total expenditure                  float64\n",
            "Diphtheria                         float64\n",
            " HIV/AIDS                          float64\n",
            "GDP                                float64\n",
            "Population                         float64\n",
            " thinness  1-19 years              float64\n",
            " thinness 5-9 years                float64\n",
            "Income composition of resources    float64\n",
            "Schooling                          float64\n",
            "dtype: object\n"
          ]
        }
      ]
    },
    {
      "cell_type": "markdown",
      "metadata": {
        "id": "7Nsyhb7LSckG"
      },
      "source": [
        "9) ¿Hay valores faltantes en alguna de las columnas de `expvida`?"
      ]
    },
    {
      "cell_type": "code",
      "metadata": {
        "id": "DP_IgUWzSckI",
        "colab": {
          "base_uri": "https://localhost:8080/"
        },
        "outputId": "ad5f5b46-0dbc-4c15-c8a8-9c684d3bef11"
      },
      "source": [
        "# Obtengo la cantidad de datos faltantes en cada columna\n",
        "import pandas as pd\n",
        "datos=pd.read_csv(expvida)\n",
        "\n",
        "valores_nulos=datos.isnull().any()\n",
        "print(\"Valores nulos:\")\n",
        "print(valores_nulos)"
      ],
      "execution_count": 31,
      "outputs": [
        {
          "output_type": "stream",
          "name": "stdout",
          "text": [
            "Valores nulos:\n",
            "Country                            False\n",
            "Year                               False\n",
            "Status                             False\n",
            "Life expectancy                     True\n",
            "Adult Mortality                     True\n",
            "infant deaths                      False\n",
            "Alcohol                             True\n",
            "percentage expenditure             False\n",
            "Hepatitis B                         True\n",
            "Measles                            False\n",
            " BMI                                True\n",
            "under-five deaths                  False\n",
            "Polio                               True\n",
            "Total expenditure                   True\n",
            "Diphtheria                          True\n",
            " HIV/AIDS                          False\n",
            "GDP                                 True\n",
            "Population                          True\n",
            " thinness  1-19 years               True\n",
            " thinness 5-9 years                 True\n",
            "Income composition of resources     True\n",
            "Schooling                           True\n",
            "dtype: bool\n"
          ]
        }
      ]
    },
    {
      "cell_type": "markdown",
      "metadata": {
        "id": "Q7-bL4tlSckL"
      },
      "source": [
        "10) Selecciona el maximo de datos faltantes. Calcula que porcentaje de los datos representan los datos faltantes."
      ]
    },
    {
      "cell_type": "code",
      "metadata": {
        "id": "gicdHYh0SckM",
        "colab": {
          "base_uri": "https://localhost:8080/"
        },
        "outputId": "5ae94450-3afd-4d2e-e023-536b4d8ae697"
      },
      "source": [
        "# Obtengo el maximo valor de datos faltantes y lo guardo en la variable masnan\n",
        "import pandas as pd\n",
        "datos=pd.read_csv(expvida)\n",
        "masnan=datos.isnull().sum().max()\n",
        "print(\"Maximo valor:\", masnan)"
      ],
      "execution_count": 32,
      "outputs": [
        {
          "output_type": "stream",
          "name": "stdout",
          "text": [
            "Maximo valor: 652\n"
          ]
        }
      ]
    },
    {
      "cell_type": "code",
      "metadata": {
        "id": "Y58Hh90pSckP"
      },
      "source": [],
      "execution_count": null,
      "outputs": []
    },
    {
      "cell_type": "code",
      "metadata": {
        "id": "RuRgzIFBSckT",
        "colab": {
          "base_uri": "https://localhost:8080/"
        },
        "outputId": "99b89c96-5690-41b4-ca4e-6007dc8a6067"
      },
      "source": [
        "# Obtengo la cantidad de filas total y divido el maximo valor de datos faltantes por este numero\n",
        "# y lo multiplico por 100\n",
        "import pandas as pd\n",
        "\n",
        "# Cargar el archivo CSV en un DataFrame\n",
        "datos = pd.read_csv(expvida)\n",
        "\n",
        "# Obtener la cantidad total de filas\n",
        "total_filas = len(datos)\n",
        "\n",
        "# Obtener el máximo valor de datos faltantes en todas las columnas\n",
        "masnan = datos.isnull().sum().max()\n",
        "\n",
        "# Calcular el porcentaje de datos faltantes\n",
        "porcentaje_faltantes = (masnan / total_filas) * 100\n",
        "\n",
        "print(\"Porcentaje de datos faltantes en relación con el total de filas:\", porcentaje_faltantes)\n"
      ],
      "execution_count": 33,
      "outputs": [
        {
          "output_type": "stream",
          "name": "stdout",
          "text": [
            "Porcentaje de datos faltantes en relación con el total de filas: 22.19196732471069\n"
          ]
        }
      ]
    },
    {
      "cell_type": "code",
      "metadata": {
        "id": "1NIY9qQBSckX",
        "colab": {
          "base_uri": "https://localhost:8080/"
        },
        "outputId": "b66a1a4c-723b-483c-a601-e341b90191ef"
      },
      "source": [
        "# Imprimo el maximo porcentaje de datos faltantes. Uso f-strings.\n",
        "import pandas as pd\n",
        "datos = pd.read_csv(expvida)\n",
        "total_filas = len(datos)\n",
        "masnan = datos.isnull().sum().max()\n",
        "\n",
        "# Calcular el porcentaje de datos faltantes\n",
        "porcentaje_faltantes = (masnan / total_filas) * 100\n",
        "\n",
        "# Imprimir el máximo porcentaje de datos faltantes utilizando f-strings\n",
        "print(f\"El máximo porcentaje de datos faltantes es: {porcentaje_faltantes:.2f}%\")\n"
      ],
      "execution_count": 34,
      "outputs": [
        {
          "output_type": "stream",
          "name": "stdout",
          "text": [
            "El máximo porcentaje de datos faltantes es: 22.19%\n"
          ]
        }
      ]
    },
    {
      "cell_type": "markdown",
      "metadata": {
        "id": "r0ukORx9Sckg"
      },
      "source": [
        "- str.format()\n",
        "- Template Class\n",
        "- f-strings"
      ]
    },
    {
      "cell_type": "markdown",
      "metadata": {
        "id": "hUXqdma_Sckj"
      },
      "source": [
        "#### Ahora vamos a realizar algunos calculos y manipulaciones sobre las columnas."
      ]
    },
    {
      "cell_type": "markdown",
      "metadata": {
        "id": "eBzg8GYGSckk"
      },
      "source": [
        "Una función útil para este fin es: `.rename()`. Y podemos utilizarla de la siguiente manera: Si `df` es mi DataFrame y quiero renombrar la columna `columna` como `columna1`, y la columna `columna2` como `columna3`, utilizo la siguiente sintaxis:\n",
        "  \n",
        "`df.rename(columns={\"columna\": \"columna1\", \"columna2\": \"columna3\"}, inplace=True)`"
      ]
    },
    {
      "cell_type": "markdown",
      "metadata": {
        "id": "EYINiSHdSckl"
      },
      "source": [
        "11) Renombra la columna 'Life expectancy ' como 'life_expectancy', ' BMI ' como 'bmi' y ''Measles ' como 'measles'. No olvides de usar `inplace` para modificar el DataFrame original. Luego chequea que el cambio se haya hecho correctamente."
      ]
    },
    {
      "cell_type": "code",
      "metadata": {
        "id": "TL4b2ueXSckm"
      },
      "source": [
        "# Renombro columnas del DataFrame\n",
        "import pandas as pd\n",
        "datos=pd.read_csv(expvida)\n",
        "datos.rename(columns={'Life expectancy': 'life_expectancy','BMI':'bmi','Measles':'measles'},inplace=True)\n"
      ],
      "execution_count": 37,
      "outputs": []
    },
    {
      "cell_type": "code",
      "metadata": {
        "id": "r1RVoERMSckp",
        "colab": {
          "base_uri": "https://localhost:8080/"
        },
        "outputId": "d4a283cd-4ca8-43fc-cfab-1df8d231ac0b"
      },
      "source": [
        "# Chequeo que se hayan reemplazado correctamente\n",
        "print(\"Columnas actualizadas:\")\n",
        "print(datos.columns)"
      ],
      "execution_count": 38,
      "outputs": [
        {
          "output_type": "stream",
          "name": "stdout",
          "text": [
            "Columnas actualizadas:\n",
            "Index(['Country', 'Year', 'Status', 'Life expectancy ', 'Adult Mortality',\n",
            "       'infant deaths', 'Alcohol', 'percentage expenditure', 'Hepatitis B',\n",
            "       'Measles ', ' BMI ', 'under-five deaths ', 'Polio', 'Total expenditure',\n",
            "       'Diphtheria ', ' HIV/AIDS', 'GDP', 'Population',\n",
            "       ' thinness  1-19 years', ' thinness 5-9 years',\n",
            "       'Income composition of resources', 'Schooling'],\n",
            "      dtype='object')\n"
          ]
        }
      ]
    },
    {
      "cell_type": "markdown",
      "metadata": {
        "id": "cNXpOsdiScks"
      },
      "source": [
        "12) ¿Cual es el promedio de expectativa de vida (Life expectancy) en general?"
      ]
    },
    {
      "cell_type": "code",
      "metadata": {
        "id": "OYv3yiXmSckt",
        "colab": {
          "base_uri": "https://localhost:8080/"
        },
        "outputId": "632d8224-d315-4b6f-c1e9-46c97d881fae"
      },
      "source": [
        "# Obtengo el promedio de la columna\n",
        "import pandas as pd\n",
        "datos = pd.read_csv(expvida)\n",
        "\n",
        "# Calcular el promedio de expectativa de vida\n",
        "promedio_expectativa_vida = datos['Life expectancy '].mean()\n",
        "\n",
        "print(\"Promedio de expectativa de vida en general:\", promedio_expectativa_vida)\n"
      ],
      "execution_count": 40,
      "outputs": [
        {
          "output_type": "stream",
          "name": "stdout",
          "text": [
            "Promedio de expectativa de vida en general: 69.22493169398908\n"
          ]
        }
      ]
    },
    {
      "cell_type": "markdown",
      "metadata": {
        "id": "A-bzQhFqSckw"
      },
      "source": [
        "13) ¿Cual es el promedio de expectativa de vida (Life expectancy) por país?"
      ]
    },
    {
      "cell_type": "code",
      "metadata": {
        "id": "eWN_AJPMSckx",
        "colab": {
          "base_uri": "https://localhost:8080/"
        },
        "outputId": "e1da5d8b-67cd-4af6-dc75-dd6b5253cbeb"
      },
      "source": [
        "# Obtengo el promedio por pais\n",
        "import pandas as pd\n",
        "datos = pd.read_csv(expvida)\n",
        "\n",
        "# Calcular el promedio de expectativa de vida por país\n",
        "promedio_por_pais = datos.groupby('Country')['Life expectancy '].mean()\n",
        "\n",
        "print(\"Promedio de expectativa de vida por país:\")\n",
        "print(promedio_por_pais)\n"
      ],
      "execution_count": 41,
      "outputs": [
        {
          "output_type": "stream",
          "name": "stdout",
          "text": [
            "Promedio de expectativa de vida por país:\n",
            "Country\n",
            "Afghanistan                           58.19375\n",
            "Albania                               75.15625\n",
            "Algeria                               73.61875\n",
            "Angola                                49.01875\n",
            "Antigua and Barbuda                   75.05625\n",
            "                                        ...   \n",
            "Venezuela (Bolivarian Republic of)    73.38750\n",
            "Viet Nam                              74.77500\n",
            "Yemen                                 63.86250\n",
            "Zambia                                53.90625\n",
            "Zimbabwe                              50.48750\n",
            "Name: Life expectancy , Length: 193, dtype: float64\n"
          ]
        }
      ]
    },
    {
      "cell_type": "markdown",
      "metadata": {
        "id": "YIopZIPrSck0"
      },
      "source": [
        "14) ¿Cual es la expectativa de vida mas alta y mas baja? Usa la funcion de pandas y la funcion de NumPy y compara el resultado. ¿Que paises tienen esas expectativas de vida?"
      ]
    },
    {
      "cell_type": "code",
      "metadata": {
        "id": "gU8js5J8Sck0",
        "colab": {
          "base_uri": "https://localhost:8080/"
        },
        "outputId": "86a8b0c7-f6d7-429e-d6e6-938ac0df3072"
      },
      "source": [
        "import pandas as pd\n",
        "import numpy as np\n",
        "\n",
        "# Cargar el archivo CSV en un DataFrame\n",
        "datos = pd.read_csv(expvida)\n",
        "\n",
        "# Usando NumPy para encontrar la expectativa de vida más alta y más baja\n",
        "max_numpy = np.max(datos['Life expectancy '])\n",
        "min_numpy = np.min(datos['Life expectancy '])\n",
        "\n",
        "# Obtener los países con la expectativa de vida más alta y más baja\n",
        "pais_max_numpy = datos.loc[datos['Life expectancy '] == max_numpy, 'Country'].iloc[0]\n",
        "pais_min_numpy = datos.loc[datos['Life expectancy '] == min_numpy, 'Country'].iloc[0]\n",
        "\n",
        "print(\"Expectativa de vida más alta (NumPy):\", max_numpy, \"en\", pais_max_numpy)\n",
        "print(\"Expectativa de vida más baja (NumPy):\", min_numpy, \"en\", pais_min_numpy)\n",
        "\n"
      ],
      "execution_count": 47,
      "outputs": [
        {
          "output_type": "stream",
          "name": "stdout",
          "text": [
            "Expectativa de vida más alta (NumPy): 89.0 en Belgium\n",
            "Expectativa de vida más baja (NumPy): 36.3 en Haiti\n"
          ]
        }
      ]
    },
    {
      "cell_type": "code",
      "metadata": {
        "id": "_JyNdRuESck2"
      },
      "source": [
        "# Maxima expectativa de vida usando pandas\n"
      ],
      "execution_count": null,
      "outputs": []
    },
    {
      "cell_type": "code",
      "metadata": {
        "id": "pTCZ9VJXSck4"
      },
      "source": [
        "# Minima expectativa de vida usando numpy\n",
        "pais_min_numpy = datos.loc[datos['Life expectancy '] == min_numpy, 'Country'].iloc[0]\n"
      ],
      "execution_count": 48,
      "outputs": []
    },
    {
      "cell_type": "code",
      "metadata": {
        "id": "BbJ9nW_LSck6"
      },
      "source": [
        "# Minima expectativa de vida usando pandas\n"
      ],
      "execution_count": null,
      "outputs": []
    },
    {
      "cell_type": "code",
      "metadata": {
        "id": "R83PS8f8Sck8"
      },
      "source": [
        "# Muestro los resultados maximos\n"
      ],
      "execution_count": null,
      "outputs": []
    },
    {
      "cell_type": "code",
      "metadata": {
        "id": "jUZlYu3BSck_"
      },
      "source": [
        "# Muestro los resultados minimos\n"
      ],
      "execution_count": null,
      "outputs": []
    },
    {
      "cell_type": "code",
      "metadata": {
        "id": "et_RZ44GSclB"
      },
      "source": [
        "# Filtro las columnas para mostrar solo las filas que tengan valor\n",
        "# igual al maximo\n"
      ],
      "execution_count": null,
      "outputs": []
    },
    {
      "cell_type": "code",
      "metadata": {
        "id": "IQnm1-44SclE"
      },
      "source": [
        "# Filtro las columnas para mostrar solo las filas que tengan valor\n",
        "# igual al minimo\n"
      ],
      "execution_count": null,
      "outputs": []
    },
    {
      "cell_type": "markdown",
      "metadata": {
        "id": "mk_q0UUdSclq"
      },
      "source": [
        "15) ¿Cuantas categorias encontramos en la columna \"Status\"? _**Pista**_: Lee acerca de la función [unique()](http://pandas.pydata.org/pandas-docs/stable/reference/api/pandas.Series.unique.html?highlight=unique#pandas.Series.unique)"
      ]
    },
    {
      "cell_type": "code",
      "metadata": {
        "id": "HA2tDgWVSclq",
        "colab": {
          "base_uri": "https://localhost:8080/"
        },
        "outputId": "424aae69-0036-44ea-99da-82264cb9a7d4"
      },
      "source": [
        "# Obtengo los valores unicos de la columna status\n",
        "import pandas as pd\n",
        "\n",
        "# Cargar el archivo CSV en un DataFrame\n",
        "datos = pd.read_csv(expvida)\n",
        "\n",
        "# Obtener los valores únicos en la columna \"Status\"\n",
        "categorias_status = datos['Status'].unique()\n",
        "\n",
        "# Contar la cantidad de categorías\n",
        "cantidad_categorias = len(categorias_status)\n",
        "\n",
        "print(\"Cantidad de categorías en la columna 'Status':\", cantidad_categorias)\n"
      ],
      "execution_count": 52,
      "outputs": [
        {
          "output_type": "stream",
          "name": "stdout",
          "text": [
            "Cantidad de categorías en la columna 'Status': 2\n"
          ]
        }
      ]
    },
    {
      "cell_type": "markdown",
      "source": [],
      "metadata": {
        "id": "WiIxLWFOIVWS"
      }
    },
    {
      "cell_type": "markdown",
      "metadata": {
        "id": "ps0WfRElSclu"
      },
      "source": [
        "16) ¿Cuantos paises se ubican en cada una de esas categorias de \"Status\"? _**Pista**_: Lee acerca de la función [value_counts()](http://pandas.pydata.org/pandas-docs/stable/reference/api/pandas.Series.value_counts.html)"
      ]
    },
    {
      "cell_type": "code",
      "metadata": {
        "id": "a8zkd7TTSclw",
        "colab": {
          "base_uri": "https://localhost:8080/"
        },
        "outputId": "98980cf8-6163-4f30-fc13-06893976f61c"
      },
      "source": [
        "# Cuento cuantos valores hay de cada categoria\n",
        "import pandas as pd\n",
        "\n",
        "# Cargar el archivo CSV en un DataFrame\n",
        "datos = pd.read_csv(expvida)\n",
        "\n",
        "# Contar la cantidad de países en cada categoría de \"Status\"\n",
        "paises_por_status = datos['Status'].value_counts()\n",
        "\n",
        "print(\"Cantidad de países en cada categoría de Status:\")\n",
        "print(paises_por_status)\n"
      ],
      "execution_count": 51,
      "outputs": [
        {
          "output_type": "stream",
          "name": "stdout",
          "text": [
            "Cantidad de países en cada categoría de Status:\n",
            "Status\n",
            "Developing    2426\n",
            "Developed      512\n",
            "Name: count, dtype: int64\n"
          ]
        }
      ]
    },
    {
      "cell_type": "markdown",
      "metadata": {
        "id": "IFvTsLnQSclz"
      },
      "source": [
        "18) ¿Cuantos paises presentaron algun caso de Sarampion (**Measles**) en el 2015? **_Pista_**: Lee acerca de la función [.count()](http://pandas.pydata.org/pandas-docs/stable/reference/api/pandas.DataFrame.count.html?highlight=count#pandas.DataFrame.count)"
      ]
    },
    {
      "cell_type": "code",
      "metadata": {
        "id": "qOyyukGmSclz",
        "colab": {
          "base_uri": "https://localhost:8080/"
        },
        "outputId": "4601c998-1863-4836-a259-fcb7dc11829f"
      },
      "source": [
        "# Cuento cuantas filas tienen valores distintos de cero\n",
        "import pandas as pd\n",
        "\n",
        "# Cargar el archivo CSV en un DataFrame\n",
        "datos = pd.read_csv(expvida)\n",
        "\n",
        "# Filtrar los datos para el año 2015\n",
        "datos_2015 = datos[datos['Year'] == 2015]\n",
        "\n",
        "# Contar cuántos países presentaron casos de sarampión en 2015\n",
        "paises_con_sarampion_2015 = datos_2015['Measles '].count()\n",
        "\n",
        "print(\"Cantidad de países con casos de sarampión en 2015:\", paises_con_sarampion_2015)\n"
      ],
      "execution_count": 50,
      "outputs": [
        {
          "output_type": "stream",
          "name": "stdout",
          "text": [
            "Cantidad de países con casos de sarampión en 2015: 183\n"
          ]
        }
      ]
    },
    {
      "cell_type": "code",
      "metadata": {
        "id": "aFaOi_mmScl2"
      },
      "source": [],
      "execution_count": null,
      "outputs": []
    }
  ]
}